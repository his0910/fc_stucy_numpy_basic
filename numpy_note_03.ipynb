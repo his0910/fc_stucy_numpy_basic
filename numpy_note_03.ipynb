{
  "nbformat": 4,
  "nbformat_minor": 0,
  "metadata": {
    "colab": {
      "name": "[실습]Ch06.numpy - 07.arange,range.ipynb",
      "provenance": [],
      "collapsed_sections": []
    },
    "kernelspec": {
      "name": "python3",
      "display_name": "Python 3"
    }
  },
  "cells": [
    {
      "cell_type": "code",
      "metadata": {
        "id": "q9-VjchqYrZc"
      },
      "source": [
        "import numpy as np"
      ],
      "execution_count": 1,
      "outputs": []
    },
    {
      "cell_type": "markdown",
      "metadata": {
        "id": "Jlkq_eLvZAXJ"
      },
      "source": [
        "## 1. arange란?"
      ]
    },
    {
      "cell_type": "markdown",
      "metadata": {
        "id": "qHT2C5eSZCwp"
      },
      "source": [
        "arange와 range를 같이 보고 이해하시면 됩니다.\n",
        "(당연히 개념도 매우 직관적이고 쉽습니다)"
      ]
    },
    {
      "cell_type": "markdown",
      "metadata": {
        "id": "7ASNxnlzZMiI"
      },
      "source": [
        "**[실제 상황 예시]**\n",
        "\n",
        "우리는 순차적인 값을 생성할 때가 많습니다. 예를 들면 다음과 같습니다.\n",
        "\n",
        "1. 회원에 대한 가입 번호 부여 (1번 회원부터 순차적으로~)\n",
        "2. 100개 한정 판매 상품에 대한 고유 번호 부여\n",
        "\n",
        "등등.. 이 밖에도 데이터 관리를 위한 인덱스를 차례대로 부여하는 것은 매우 흔한 일입니다. (심지어, 엑셀에서도 왼쪽 행에 1번부터~ 쭈욱 부여 되죠?)"
      ]
    },
    {
      "cell_type": "markdown",
      "metadata": {
        "id": "JJMFhTTMadAu"
      },
      "source": [
        "### 1-1. 순서대로 리스트에 값을 생성하려면?"
      ]
    },
    {
      "cell_type": "markdown",
      "metadata": {
        "id": "nyBZLk2oc2sb"
      },
      "source": [
        "1~10까지 값을 생성하려면?"
      ]
    },
    {
      "cell_type": "code",
      "metadata": {
        "id": "DUPdcWj3b8YI"
      },
      "source": [
        "arr = [1, 2, 3, 4, 5, 6, 7, 8, 9, 10]"
      ],
      "execution_count": 2,
      "outputs": []
    },
    {
      "cell_type": "code",
      "metadata": {
        "id": "I66ivEa8c8Ok",
        "colab": {
          "base_uri": "https://localhost:8080/"
        },
        "outputId": "358da158-a1d6-4fe3-8276-bd83dd532231"
      },
      "source": [
        "arr"
      ],
      "execution_count": 3,
      "outputs": [
        {
          "output_type": "execute_result",
          "data": {
            "text/plain": [
              "[1, 2, 3, 4, 5, 6, 7, 8, 9, 10]"
            ]
          },
          "metadata": {},
          "execution_count": 3
        }
      ]
    },
    {
      "cell_type": "markdown",
      "metadata": {
        "id": "toy77tE5c_DW"
      },
      "source": [
        "### 1-2. arange를 사용해서 쉽게 생성하기"
      ]
    },
    {
      "cell_type": "markdown",
      "metadata": {
        "id": "E0cdCSnVdHlK"
      },
      "source": [
        "첫번째 인자에는 **start 이상**, 두번째 인자에는 **stop의 미만** 이 들어갑니다."
      ]
    },
    {
      "cell_type": "code",
      "metadata": {
        "id": "EoH_TE8edDDm"
      },
      "source": [
        "arr = np.arange(1, 11)\n"
      ],
      "execution_count": 5,
      "outputs": []
    },
    {
      "cell_type": "code",
      "metadata": {
        "id": "WPgM5vvfdGGX",
        "colab": {
          "base_uri": "https://localhost:8080/"
        },
        "outputId": "40be35de-d221-4a31-d402-21ac04a46df3"
      },
      "source": [
        "arr"
      ],
      "execution_count": 6,
      "outputs": [
        {
          "output_type": "execute_result",
          "data": {
            "text/plain": [
              "array([ 1,  2,  3,  4,  5,  6,  7,  8,  9, 10])"
            ]
          },
          "metadata": {},
          "execution_count": 6
        }
      ]
    },
    {
      "cell_type": "markdown",
      "metadata": {
        "id": "P9jsPX9jdGfH"
      },
      "source": [
        "## 1-3. keyword 인자를 사용해보기"
      ]
    },
    {
      "cell_type": "markdown",
      "metadata": {
        "id": "BSsXCqTUdpWf"
      },
      "source": [
        "keyword 인자는 파라미터(인자)의 keyword를 지정해줌으로썬 순서 없이 지정해 줄 수 있습니다."
      ]
    },
    {
      "cell_type": "code",
      "metadata": {
        "id": "XquA7klSdwoP"
      },
      "source": [
        "arr = np.arange(start=1, stop=11)\n"
      ],
      "execution_count": 7,
      "outputs": []
    },
    {
      "cell_type": "code",
      "metadata": {
        "id": "KBJ169jBd22H",
        "colab": {
          "base_uri": "https://localhost:8080/"
        },
        "outputId": "54f510fb-dc51-4e55-f572-a180bbfdafaa"
      },
      "source": [
        "arr"
      ],
      "execution_count": 8,
      "outputs": [
        {
          "output_type": "execute_result",
          "data": {
            "text/plain": [
              "array([ 1,  2,  3,  4,  5,  6,  7,  8,  9, 10])"
            ]
          },
          "metadata": {},
          "execution_count": 8
        }
      ]
    },
    {
      "cell_type": "code",
      "metadata": {
        "id": "KLxLL3H4d3VP"
      },
      "source": [
        "arr = np.arange(stop=11, start=1)\n"
      ],
      "execution_count": 9,
      "outputs": []
    },
    {
      "cell_type": "code",
      "metadata": {
        "id": "cM79U_lhd8Ho",
        "colab": {
          "base_uri": "https://localhost:8080/"
        },
        "outputId": "b73b300d-a1b9-4903-cb09-f6c590635057"
      },
      "source": [
        "arr"
      ],
      "execution_count": 10,
      "outputs": [
        {
          "output_type": "execute_result",
          "data": {
            "text/plain": [
              "array([ 1,  2,  3,  4,  5,  6,  7,  8,  9, 10])"
            ]
          },
          "metadata": {},
          "execution_count": 10
        }
      ]
    },
    {
      "cell_type": "markdown",
      "metadata": {
        "id": "1cfrkQUTd8u3"
      },
      "source": [
        "### 1-4. 홀수의 값만 생성"
      ]
    },
    {
      "cell_type": "markdown",
      "metadata": {
        "id": "qnni1pROeDNH"
      },
      "source": [
        "1~10 사이의 값중 홀수만 생성해 보세요."
      ]
    },
    {
      "cell_type": "markdown",
      "metadata": {
        "id": "lSMgWdW_eGxu"
      },
      "source": [
        "**step 키워드 활용**"
      ]
    },
    {
      "cell_type": "code",
      "metadata": {
        "id": "4nCoMlY6eKEG"
      },
      "source": [
        "arr = np.arange(1, 11, 2)\n"
      ],
      "execution_count": 11,
      "outputs": []
    },
    {
      "cell_type": "code",
      "metadata": {
        "id": "bbD_pVlCeNjf",
        "colab": {
          "base_uri": "https://localhost:8080/"
        },
        "outputId": "01ec69f9-0b8f-481a-b22c-dd1498ececda"
      },
      "source": [
        "arr"
      ],
      "execution_count": 12,
      "outputs": [
        {
          "output_type": "execute_result",
          "data": {
            "text/plain": [
              "array([1, 3, 5, 7, 9])"
            ]
          },
          "metadata": {},
          "execution_count": 12
        }
      ]
    },
    {
      "cell_type": "code",
      "metadata": {
        "id": "Km2Y-H9GeOJw"
      },
      "source": [
        "arr = np.arange(start=1, stop=11, step=2)\n"
      ],
      "execution_count": 13,
      "outputs": []
    },
    {
      "cell_type": "code",
      "metadata": {
        "id": "qFkEtpj6eRf5",
        "colab": {
          "base_uri": "https://localhost:8080/"
        },
        "outputId": "746374a5-9868-456f-c66e-b4cd55bb026d"
      },
      "source": [
        "arr"
      ],
      "execution_count": 14,
      "outputs": [
        {
          "output_type": "execute_result",
          "data": {
            "text/plain": [
              "array([1, 3, 5, 7, 9])"
            ]
          },
          "metadata": {},
          "execution_count": 14
        }
      ]
    },
    {
      "cell_type": "markdown",
      "metadata": {
        "id": "CGXt-yz1eW-u"
      },
      "source": [
        "## 2. range (numpy와는 상관없는 python 문법)"
      ]
    },
    {
      "cell_type": "markdown",
      "metadata": {
        "id": "C2d4HSjbeXBG"
      },
      "source": [
        "* range는 말 그대로 범위를 지정해 주는 것입니다.\n",
        "* np.arange와 헷갈리시는 분들이 많아 이번 시간에 같이 다룹니다.\n",
        "* 보통 for in 의 반복문에서 많이 사용됩니다."
      ]
    },
    {
      "cell_type": "code",
      "metadata": {
        "id": "7QyWC0d-eXDe"
      },
      "source": [
        "arr = np.arange(1, 11)\n"
      ],
      "execution_count": 15,
      "outputs": []
    },
    {
      "cell_type": "code",
      "metadata": {
        "id": "ZDpnpl6delRP",
        "colab": {
          "base_uri": "https://localhost:8080/"
        },
        "outputId": "5f1eb5d2-4cb0-4b8d-89d8-f8377a470ec9"
      },
      "source": [
        "arr"
      ],
      "execution_count": 16,
      "outputs": [
        {
          "output_type": "execute_result",
          "data": {
            "text/plain": [
              "array([ 1,  2,  3,  4,  5,  6,  7,  8,  9, 10])"
            ]
          },
          "metadata": {},
          "execution_count": 16
        }
      ]
    },
    {
      "cell_type": "code",
      "metadata": {
        "id": "ryyFPjKYfBIn",
        "colab": {
          "base_uri": "https://localhost:8080/"
        },
        "outputId": "ca015c9b-d342-41cd-e7e6-7a6f9eb0d632"
      },
      "source": [
        "for i in arr:\n",
        "    print(i)"
      ],
      "execution_count": 17,
      "outputs": [
        {
          "output_type": "stream",
          "name": "stdout",
          "text": [
            "1\n",
            "2\n",
            "3\n",
            "4\n",
            "5\n",
            "6\n",
            "7\n",
            "8\n",
            "9\n",
            "10\n"
          ]
        }
      ]
    },
    {
      "cell_type": "markdown",
      "metadata": {
        "id": "pILEfkE2fEfd"
      },
      "source": [
        "### 2-1. range 구문 활용시"
      ]
    },
    {
      "cell_type": "code",
      "metadata": {
        "id": "vZl0-whyelvu",
        "colab": {
          "base_uri": "https://localhost:8080/"
        },
        "outputId": "d361154e-5049-4238-c3ad-7b77eef5e2fe"
      },
      "source": [
        "for i in range(1, 11):\n",
        "    print(i)"
      ],
      "execution_count": 18,
      "outputs": [
        {
          "output_type": "stream",
          "name": "stdout",
          "text": [
            "1\n",
            "2\n",
            "3\n",
            "4\n",
            "5\n",
            "6\n",
            "7\n",
            "8\n",
            "9\n",
            "10\n"
          ]
        }
      ]
    },
    {
      "cell_type": "code",
      "metadata": {
        "id": "FqCegWlvepj3",
        "colab": {
          "base_uri": "https://localhost:8080/"
        },
        "outputId": "fe9bfd14-b9be-4c46-f39c-0bd6299efa4f"
      },
      "source": [
        "for i in range(1, 11, 2):\n",
        "    print(i)"
      ],
      "execution_count": 19,
      "outputs": [
        {
          "output_type": "stream",
          "name": "stdout",
          "text": [
            "1\n",
            "3\n",
            "5\n",
            "7\n",
            "9\n"
          ]
        }
      ]
    },
    {
      "cell_type": "code",
      "metadata": {
        "id": "q1hx-RwwxX2Y"
      },
      "source": [
        ""
      ],
      "execution_count": null,
      "outputs": []
    }
  ]
}