{
  "nbformat": 4,
  "nbformat_minor": 0,
  "metadata": {
    "colab": {
      "name": "[실습]Ch06.numpy - 04~06.index.ipynb",
      "provenance": [],
      "collapsed_sections": []
    },
    "kernelspec": {
      "name": "python3",
      "display_name": "Python 3"
    }
  },
  "cells": [
    {
      "cell_type": "code",
      "metadata": {
        "id": "vRbhAqrPPUSJ"
      },
      "source": [
        "import numpy as np"
      ],
      "execution_count": 1,
      "outputs": []
    },
    {
      "cell_type": "markdown",
      "metadata": {
        "id": "5udnDdRaPwEO"
      },
      "source": [
        "## 1. 슬라이싱 (Slicing)"
      ]
    },
    {
      "cell_type": "markdown",
      "metadata": {
        "id": "OsFvaJktP0b_"
      },
      "source": [
        "배열의 부분 선택 (과일을 슬라이스해서 부분만 먹듯..)"
      ]
    },
    {
      "cell_type": "code",
      "metadata": {
        "id": "6keEerG8P_S5"
      },
      "source": [
        "arr = np.array([0, 1, 2, 3, 4, 5, 6, 7, 8, 9])"
      ],
      "execution_count": 4,
      "outputs": []
    },
    {
      "cell_type": "code",
      "metadata": {
        "id": "h4hJvNn9QFNt",
        "colab": {
          "base_uri": "https://localhost:8080/"
        },
        "outputId": "d12907bb-f225-4028-fb44-15466dd6f489"
      },
      "source": [
        "arr.shape"
      ],
      "execution_count": 5,
      "outputs": [
        {
          "output_type": "execute_result",
          "data": {
            "text/plain": [
              "(10,)"
            ]
          },
          "metadata": {},
          "execution_count": 5
        }
      ]
    },
    {
      "cell_type": "markdown",
      "metadata": {
        "id": "Srgo4QWxQXZN"
      },
      "source": [
        "### 1-1. index 지정하여 색인"
      ]
    },
    {
      "cell_type": "markdown",
      "metadata": {
        "id": "G9hLG9ZZRn3P"
      },
      "source": [
        "#### 1차원 array"
      ]
    },
    {
      "cell_type": "code",
      "metadata": {
        "id": "9vqX0uhOSKSp"
      },
      "source": [
        "arr = np.array([0, 1, 2, 3, 4, 5, 6, 7, 8, 9])"
      ],
      "execution_count": 2,
      "outputs": []
    },
    {
      "cell_type": "code",
      "metadata": {
        "id": "cXZG1g94QV_i",
        "colab": {
          "base_uri": "https://localhost:8080/"
        },
        "outputId": "0052c946-e781-48d2-b48e-11c7a63d9c24"
      },
      "source": [
        "arr[0]\n"
      ],
      "execution_count": 6,
      "outputs": [
        {
          "output_type": "execute_result",
          "data": {
            "text/plain": [
              "0"
            ]
          },
          "metadata": {},
          "execution_count": 6
        }
      ]
    },
    {
      "cell_type": "code",
      "metadata": {
        "id": "5posuZniQVks",
        "colab": {
          "base_uri": "https://localhost:8080/"
        },
        "outputId": "f35c9ba7-3531-4fed-82cc-8e7e9a1d5a3c"
      },
      "source": [
        "arr[5]\n"
      ],
      "execution_count": 7,
      "outputs": [
        {
          "output_type": "execute_result",
          "data": {
            "text/plain": [
              "5"
            ]
          },
          "metadata": {},
          "execution_count": 7
        }
      ]
    },
    {
      "cell_type": "code",
      "metadata": {
        "id": "8P2cdAGJQf0u",
        "colab": {
          "base_uri": "https://localhost:8080/",
          "height": 174
        },
        "outputId": "5a535e8a-e93c-4631-dc16-209c44b86213"
      },
      "source": [
        "arr[10]"
      ],
      "execution_count": 8,
      "outputs": [
        {
          "output_type": "error",
          "ename": "IndexError",
          "evalue": "ignored",
          "traceback": [
            "\u001b[0;31m---------------------------------------------------------------------------\u001b[0m",
            "\u001b[0;31mIndexError\u001b[0m                                Traceback (most recent call last)",
            "\u001b[0;32m<ipython-input-8-ff656e92d79c>\u001b[0m in \u001b[0;36m<module>\u001b[0;34m()\u001b[0m\n\u001b[0;32m----> 1\u001b[0;31m \u001b[0marr\u001b[0m\u001b[0;34m[\u001b[0m\u001b[0;36m10\u001b[0m\u001b[0;34m]\u001b[0m\u001b[0;34m\u001b[0m\u001b[0;34m\u001b[0m\u001b[0m\n\u001b[0m",
            "\u001b[0;31mIndexError\u001b[0m: index 10 is out of bounds for axis 0 with size 10"
          ]
        }
      ]
    },
    {
      "cell_type": "code",
      "metadata": {
        "id": "rKKihrqcQhMR",
        "colab": {
          "base_uri": "https://localhost:8080/"
        },
        "outputId": "bf24a841-dace-4ac5-e25f-ced9e06d9145"
      },
      "source": [
        "arr[-1]\n"
      ],
      "execution_count": 9,
      "outputs": [
        {
          "output_type": "execute_result",
          "data": {
            "text/plain": [
              "9"
            ]
          },
          "metadata": {},
          "execution_count": 9
        }
      ]
    },
    {
      "cell_type": "code",
      "metadata": {
        "id": "4Ly74kYZQkQg",
        "colab": {
          "base_uri": "https://localhost:8080/"
        },
        "outputId": "08a44e83-a841-4aa8-b51d-be9fc9bd2dab"
      },
      "source": [
        "arr[-10]\n"
      ],
      "execution_count": 10,
      "outputs": [
        {
          "output_type": "execute_result",
          "data": {
            "text/plain": [
              "0"
            ]
          },
          "metadata": {},
          "execution_count": 10
        }
      ]
    },
    {
      "cell_type": "code",
      "metadata": {
        "id": "nF-KS39MQp_y",
        "colab": {
          "base_uri": "https://localhost:8080/",
          "height": 174
        },
        "outputId": "3aeaa972-58bd-4018-81c7-e193f78a60bb"
      },
      "source": [
        "arr[-11]"
      ],
      "execution_count": 11,
      "outputs": [
        {
          "output_type": "error",
          "ename": "IndexError",
          "evalue": "ignored",
          "traceback": [
            "\u001b[0;31m---------------------------------------------------------------------------\u001b[0m",
            "\u001b[0;31mIndexError\u001b[0m                                Traceback (most recent call last)",
            "\u001b[0;32m<ipython-input-11-91f133f07612>\u001b[0m in \u001b[0;36m<module>\u001b[0;34m()\u001b[0m\n\u001b[0;32m----> 1\u001b[0;31m \u001b[0marr\u001b[0m\u001b[0;34m[\u001b[0m\u001b[0;34m-\u001b[0m\u001b[0;36m11\u001b[0m\u001b[0;34m]\u001b[0m\u001b[0;34m\u001b[0m\u001b[0;34m\u001b[0m\u001b[0m\n\u001b[0m",
            "\u001b[0;31mIndexError\u001b[0m: index -11 is out of bounds for axis 0 with size 10"
          ]
        }
      ]
    },
    {
      "cell_type": "markdown",
      "metadata": {
        "id": "wl0C7KPNRrAI"
      },
      "source": [
        "#### 2차원 array"
      ]
    },
    {
      "cell_type": "code",
      "metadata": {
        "id": "HsiBC5kxRs6y"
      },
      "source": [
        "arr2d = np.array([[1, 2, 3, 4], \n",
        "                  [5, 6, 7, 8], \n",
        "                  [9, 10, 11, 12]])"
      ],
      "execution_count": 12,
      "outputs": []
    },
    {
      "cell_type": "code",
      "metadata": {
        "id": "fuJ8ZLpLRsx_",
        "colab": {
          "base_uri": "https://localhost:8080/"
        },
        "outputId": "95a9fadb-b657-4068-c1e2-6bea99146b1a"
      },
      "source": [
        "arr2d.shape"
      ],
      "execution_count": 13,
      "outputs": [
        {
          "output_type": "execute_result",
          "data": {
            "text/plain": [
              "(3, 4)"
            ]
          },
          "metadata": {},
          "execution_count": 13
        }
      ]
    },
    {
      "cell_type": "markdown",
      "metadata": {
        "id": "YfTsIia7RzrQ"
      },
      "source": [
        "arr2d[행, 열]"
      ]
    },
    {
      "cell_type": "code",
      "metadata": {
        "id": "zO9fguiHRyCR",
        "colab": {
          "base_uri": "https://localhost:8080/"
        },
        "outputId": "f295151b-e053-460d-9812-d1b14931d133"
      },
      "source": [
        "arr2d[0, 2]\n"
      ],
      "execution_count": 14,
      "outputs": [
        {
          "output_type": "execute_result",
          "data": {
            "text/plain": [
              "3"
            ]
          },
          "metadata": {},
          "execution_count": 14
        }
      ]
    },
    {
      "cell_type": "code",
      "metadata": {
        "id": "qbo4YbpsRxyO",
        "colab": {
          "base_uri": "https://localhost:8080/"
        },
        "outputId": "2951fbef-f5a4-4790-c225-2cf4e4350351"
      },
      "source": [
        "arr2d[2, 1]\n",
        "    "
      ],
      "execution_count": 15,
      "outputs": [
        {
          "output_type": "execute_result",
          "data": {
            "text/plain": [
              "10"
            ]
          },
          "metadata": {},
          "execution_count": 15
        }
      ]
    },
    {
      "cell_type": "markdown",
      "metadata": {
        "id": "A9JfdvmOQshs"
      },
      "source": [
        "### 1-2. 범위 색인"
      ]
    },
    {
      "cell_type": "markdown",
      "metadata": {
        "id": "HofWSyh-SCgA"
      },
      "source": [
        "#### 1차원"
      ]
    },
    {
      "cell_type": "markdown",
      "metadata": {
        "id": "6EGyB84QQw8j"
      },
      "source": [
        "index 1**이상** 끝까지"
      ]
    },
    {
      "cell_type": "code",
      "metadata": {
        "id": "Yp9guIXUk45v",
        "colab": {
          "base_uri": "https://localhost:8080/"
        },
        "outputId": "bedc6a1f-249a-4ab4-e739-872eb5f4da23"
      },
      "source": [
        "arr"
      ],
      "execution_count": 16,
      "outputs": [
        {
          "output_type": "execute_result",
          "data": {
            "text/plain": [
              "array([0, 1, 2, 3, 4, 5, 6, 7, 8, 9])"
            ]
          },
          "metadata": {},
          "execution_count": 16
        }
      ]
    },
    {
      "cell_type": "code",
      "metadata": {
        "id": "ooPQcNovQvS-",
        "colab": {
          "base_uri": "https://localhost:8080/"
        },
        "outputId": "7a8c7c41-8115-4542-d0fa-d8f11ff169af"
      },
      "source": [
        "arr[1:]\n"
      ],
      "execution_count": 17,
      "outputs": [
        {
          "output_type": "execute_result",
          "data": {
            "text/plain": [
              "array([1, 2, 3, 4, 5, 6, 7, 8, 9])"
            ]
          },
          "metadata": {},
          "execution_count": 17
        }
      ]
    },
    {
      "cell_type": "markdown",
      "metadata": {
        "id": "oK-Q2U4kQz2w"
      },
      "source": [
        "index 5 **미만** 까지"
      ]
    },
    {
      "cell_type": "code",
      "metadata": {
        "id": "XFqkQSkKRIl_",
        "colab": {
          "base_uri": "https://localhost:8080/"
        },
        "outputId": "db30ffdd-6a85-4bc3-9a95-35dd14852b3b"
      },
      "source": [
        "arr[:5]\n"
      ],
      "execution_count": 18,
      "outputs": [
        {
          "output_type": "execute_result",
          "data": {
            "text/plain": [
              "array([0, 1, 2, 3, 4])"
            ]
          },
          "metadata": {},
          "execution_count": 18
        }
      ]
    },
    {
      "cell_type": "markdown",
      "metadata": {
        "id": "qZbdF9riRIh5"
      },
      "source": [
        "index 1이상 5미만"
      ]
    },
    {
      "cell_type": "code",
      "metadata": {
        "id": "0txKbZfGRIdD",
        "colab": {
          "base_uri": "https://localhost:8080/"
        },
        "outputId": "c7b2eafb-b9fe-4212-9fd4-53b32013a9fc"
      },
      "source": [
        "arr[1:5]\n"
      ],
      "execution_count": 19,
      "outputs": [
        {
          "output_type": "execute_result",
          "data": {
            "text/plain": [
              "array([1, 2, 3, 4])"
            ]
          },
          "metadata": {},
          "execution_count": 19
        }
      ]
    },
    {
      "cell_type": "code",
      "metadata": {
        "colab": {
          "base_uri": "https://localhost:8080/"
        },
        "id": "UOpmGmK1j-6K",
        "outputId": "ea7fbb9a-9e58-45ae-a17b-4c9fd042f876"
      },
      "source": [
        "arr[:-1]"
      ],
      "execution_count": 20,
      "outputs": [
        {
          "output_type": "execute_result",
          "data": {
            "text/plain": [
              "array([0, 1, 2, 3, 4, 5, 6, 7, 8])"
            ]
          },
          "metadata": {},
          "execution_count": 20
        }
      ]
    },
    {
      "cell_type": "markdown",
      "metadata": {
        "id": "I6JtSZjoSEn4"
      },
      "source": [
        "#### 2차원"
      ]
    },
    {
      "cell_type": "code",
      "metadata": {
        "id": "9lf5XlZSSGOO"
      },
      "source": [
        "arr2d = np.array([[1, 2, 3, 4], \n",
        "                  [5, 6, 7, 8], \n",
        "                  [9, 10, 11, 12]])"
      ],
      "execution_count": null,
      "outputs": []
    },
    {
      "cell_type": "markdown",
      "metadata": {
        "id": "HR_JODwpSWKq"
      },
      "source": [
        "row(행)을 모두 가져오려는 경우"
      ]
    },
    {
      "cell_type": "code",
      "metadata": {
        "id": "iXoayqA8SMFc",
        "colab": {
          "base_uri": "https://localhost:8080/"
        },
        "outputId": "9ef60640-b6fd-427d-a66d-8d7150003083"
      },
      "source": [
        "arr2d[0, :]\n"
      ],
      "execution_count": 22,
      "outputs": [
        {
          "output_type": "execute_result",
          "data": {
            "text/plain": [
              "array([1, 2, 3, 4])"
            ]
          },
          "metadata": {},
          "execution_count": 22
        }
      ]
    },
    {
      "cell_type": "markdown",
      "metadata": {
        "id": "0CjCWzNhSZjq"
      },
      "source": [
        "column(열)을 모두 가져오려는 경우"
      ]
    },
    {
      "cell_type": "code",
      "metadata": {
        "id": "2I_If7CjSS7O",
        "colab": {
          "base_uri": "https://localhost:8080/"
        },
        "outputId": "f1d9f7bc-6957-4221-b80a-e49fb75c435b"
      },
      "source": [
        "arr2d[:, 2]\n"
      ],
      "execution_count": 23,
      "outputs": [
        {
          "output_type": "execute_result",
          "data": {
            "text/plain": [
              "array([ 3,  7, 11])"
            ]
          },
          "metadata": {},
          "execution_count": 23
        }
      ]
    },
    {
      "cell_type": "markdown",
      "metadata": {
        "id": "p4s8f42xSL94"
      },
      "source": [
        "부분적으로 가져오려는 경우"
      ]
    },
    {
      "cell_type": "code",
      "metadata": {
        "id": "SEE-HpBTSfv5",
        "colab": {
          "base_uri": "https://localhost:8080/"
        },
        "outputId": "9e1560d3-8c77-4f0d-cf54-fc6541fc5618"
      },
      "source": [
        "arr2d[:2, :]\n"
      ],
      "execution_count": 24,
      "outputs": [
        {
          "output_type": "execute_result",
          "data": {
            "text/plain": [
              "array([[1, 2, 3, 4],\n",
              "       [5, 6, 7, 8]])"
            ]
          },
          "metadata": {},
          "execution_count": 24
        }
      ]
    },
    {
      "cell_type": "code",
      "metadata": {
        "id": "5D7d5ozKSiXv",
        "colab": {
          "base_uri": "https://localhost:8080/"
        },
        "outputId": "9f7d7efa-a3bb-452e-de03-1789a410e708"
      },
      "source": [
        "arr2d[:2, 2:]\n"
      ],
      "execution_count": 25,
      "outputs": [
        {
          "output_type": "execute_result",
          "data": {
            "text/plain": [
              "array([[3, 4],\n",
              "       [7, 8]])"
            ]
          },
          "metadata": {},
          "execution_count": 25
        }
      ]
    },
    {
      "cell_type": "code",
      "metadata": {
        "id": "QatNmv1eVjkH"
      },
      "source": [
        ""
      ],
      "execution_count": null,
      "outputs": []
    },
    {
      "cell_type": "markdown",
      "metadata": {
        "id": "6wEBe7tbULky"
      },
      "source": [
        "## 2. Fancy 인덱싱"
      ]
    },
    {
      "cell_type": "markdown",
      "metadata": {
        "id": "ryx7onUgU7VT"
      },
      "source": [
        "fancy 인덱싱은 범위가 아닌 **특정 index의 집합의 값을 선택하여 추출**하고 싶을 때 활용합니다."
      ]
    },
    {
      "cell_type": "code",
      "metadata": {
        "id": "H-eFtxCRULUn"
      },
      "source": [
        "arr = np.array([10, 23, 2, 7, 90, 65, 32, 66, 70])"
      ],
      "execution_count": 26,
      "outputs": []
    },
    {
      "cell_type": "markdown",
      "metadata": {
        "id": "eUV5porzU5FP"
      },
      "source": [
        "반드시 **[추출하고 싶은 인덱스]** 꺾쇠 괄호로 묶어 주세요"
      ]
    },
    {
      "cell_type": "markdown",
      "metadata": {
        "id": "4nYgmmgDU4eu"
      },
      "source": [
        "변수에 지정 후 추출도 가능합니다."
      ]
    },
    {
      "cell_type": "code",
      "metadata": {
        "id": "6kGTuv20ULEk"
      },
      "source": [
        "idx = [1, 3, 5]"
      ],
      "execution_count": 27,
      "outputs": []
    },
    {
      "cell_type": "code",
      "metadata": {
        "id": "3RBEcwtDU2Dk",
        "colab": {
          "base_uri": "https://localhost:8080/"
        },
        "outputId": "2d80878d-9b64-4f8b-e0c9-496c16dce2ee"
      },
      "source": [
        "arr[idx]"
      ],
      "execution_count": 28,
      "outputs": [
        {
          "output_type": "execute_result",
          "data": {
            "text/plain": [
              "array([23,  7, 65])"
            ]
          },
          "metadata": {},
          "execution_count": 28
        }
      ]
    },
    {
      "cell_type": "markdown",
      "metadata": {
        "id": "hx83f87VVX3r"
      },
      "source": [
        "### 2-2. 2차원 array"
      ]
    },
    {
      "cell_type": "code",
      "metadata": {
        "id": "fxCICJpcVYC_"
      },
      "source": [
        "arr2d = np.array([[1, 2, 3, 4], \n",
        "                  [5, 6, 7, 8], \n",
        "                  [9, 10, 11, 12]])"
      ],
      "execution_count": null,
      "outputs": []
    },
    {
      "cell_type": "code",
      "metadata": {
        "id": "hDmBdvm1V6qF",
        "colab": {
          "base_uri": "https://localhost:8080/"
        },
        "outputId": "1a1b47aa-2c4e-42c2-becf-9e658dc87e4b"
      },
      "source": [
        "arr2d[[0, 1], :]\n"
      ],
      "execution_count": 29,
      "outputs": [
        {
          "output_type": "execute_result",
          "data": {
            "text/plain": [
              "array([[1, 2, 3, 4],\n",
              "       [5, 6, 7, 8]])"
            ]
          },
          "metadata": {},
          "execution_count": 29
        }
      ]
    },
    {
      "cell_type": "code",
      "metadata": {
        "id": "AIqPAa6sVyp7",
        "colab": {
          "base_uri": "https://localhost:8080/"
        },
        "outputId": "df7f4bb1-8aa1-415b-d346-b19ae16583c7"
      },
      "source": [
        "arr2d[:, [1, 2, 3]]\n"
      ],
      "execution_count": 30,
      "outputs": [
        {
          "output_type": "execute_result",
          "data": {
            "text/plain": [
              "array([[ 2,  3,  4],\n",
              "       [ 6,  7,  8],\n",
              "       [10, 11, 12]])"
            ]
          },
          "metadata": {},
          "execution_count": 30
        }
      ]
    },
    {
      "cell_type": "markdown",
      "metadata": {
        "id": "0jT1D1U9RIKy"
      },
      "source": [
        "## 3. Boolean 인덱싱"
      ]
    },
    {
      "cell_type": "markdown",
      "metadata": {
        "id": "L65N9DO0Rg-c"
      },
      "source": [
        "조건 필터링을 통하여 Boolean 값을 이용한 색인 (말이 어렵다..)"
      ]
    },
    {
      "cell_type": "code",
      "metadata": {
        "id": "ThYLT1u3E_Q_"
      },
      "source": [
        "arr = np.array([1, 2, 3, 4, 5, 6, 7])"
      ],
      "execution_count": 31,
      "outputs": []
    },
    {
      "cell_type": "code",
      "metadata": {
        "id": "CwIVSLtaQOGq"
      },
      "source": [
        "arr2d = np.array([[1, 2, 3, 4], \n",
        "                  [5, 6, 7, 8], \n",
        "                  [9, 10, 11, 12]])"
      ],
      "execution_count": 32,
      "outputs": []
    },
    {
      "cell_type": "markdown",
      "metadata": {
        "id": "9h4s_JOFEzqB"
      },
      "source": [
        "### 3-1. True와 False 값으로 색인하기"
      ]
    },
    {
      "cell_type": "code",
      "metadata": {
        "id": "Mt9SsbOfsu7M"
      },
      "source": [
        "# 조건이 참인 애들만 따로 인덱스로 추출하겠다!"
      ],
      "execution_count": 37,
      "outputs": []
    },
    {
      "cell_type": "code",
      "metadata": {
        "id": "eyK_PJjJE4xf"
      },
      "source": [
        "myTrueFalse = [True, False, True]"
      ],
      "execution_count": 39,
      "outputs": []
    },
    {
      "cell_type": "code",
      "metadata": {
        "id": "caCBOFDXFFM2",
        "colab": {
          "base_uri": "https://localhost:8080/",
          "height": 174
        },
        "outputId": "175cf90f-40af-41a0-de18-02943c929b12"
      },
      "source": [
        "arr[myTrueFalse]"
      ],
      "execution_count": 40,
      "outputs": [
        {
          "output_type": "error",
          "ename": "IndexError",
          "evalue": "ignored",
          "traceback": [
            "\u001b[0;31m---------------------------------------------------------------------------\u001b[0m",
            "\u001b[0;31mIndexError\u001b[0m                                Traceback (most recent call last)",
            "\u001b[0;32m<ipython-input-40-9c52b39d81ae>\u001b[0m in \u001b[0;36m<module>\u001b[0;34m()\u001b[0m\n\u001b[0;32m----> 1\u001b[0;31m \u001b[0marr\u001b[0m\u001b[0;34m[\u001b[0m\u001b[0mmyTrueFalse\u001b[0m\u001b[0;34m]\u001b[0m\u001b[0;34m\u001b[0m\u001b[0;34m\u001b[0m\u001b[0m\n\u001b[0m",
            "\u001b[0;31mIndexError\u001b[0m: boolean index did not match indexed array along dimension 0; dimension is 7 but corresponding boolean dimension is 3"
          ]
        }
      ]
    },
    {
      "cell_type": "code",
      "metadata": {
        "id": "tGSkFFUXFHF2"
      },
      "source": [
        "myTrueFalse = [True, False, True, False, True, False, True]\n"
      ],
      "execution_count": 35,
      "outputs": []
    },
    {
      "cell_type": "code",
      "metadata": {
        "id": "QuYWbMLlFMK6",
        "colab": {
          "base_uri": "https://localhost:8080/"
        },
        "outputId": "fc499185-9fcd-4dd4-9ff1-759a52f24ba7"
      },
      "source": [
        "arr[myTrueFalse]"
      ],
      "execution_count": 36,
      "outputs": [
        {
          "output_type": "execute_result",
          "data": {
            "text/plain": [
              "array([1, 3, 5, 7])"
            ]
          },
          "metadata": {},
          "execution_count": 36
        }
      ]
    },
    {
      "cell_type": "code",
      "metadata": {
        "id": "qcf_h5nptRq3"
      },
      "source": [
        "# 1, 3, 5, 7은 인덱스 1번째 위치가 아니라 arr에서 True가 있는 위치에 대한 값들을 불러왔을 뿐이다. 위의 arr을 자세히 볼 것!"
      ],
      "execution_count": 41,
      "outputs": []
    },
    {
      "cell_type": "markdown",
      "metadata": {
        "id": "EDeEZJtLS6NB"
      },
      "source": [
        "### 3-2. 조건필터"
      ]
    },
    {
      "cell_type": "markdown",
      "metadata": {
        "id": "X5XV9DqwTC8F"
      },
      "source": [
        "조건 연산자를 활용하여 필터를 생성할 수 있습니다"
      ]
    },
    {
      "cell_type": "code",
      "metadata": {
        "id": "oHIkQsBmSxTv",
        "colab": {
          "base_uri": "https://localhost:8080/"
        },
        "outputId": "ee0c8d54-05ce-4627-83ca-e5b9859e7cac"
      },
      "source": [
        "arr2d > 2\n"
      ],
      "execution_count": 42,
      "outputs": [
        {
          "output_type": "execute_result",
          "data": {
            "text/plain": [
              "array([[False, False,  True,  True],\n",
              "       [ True,  True,  True,  True],\n",
              "       [ True,  True,  True,  True]])"
            ]
          },
          "metadata": {},
          "execution_count": 42
        }
      ]
    },
    {
      "cell_type": "markdown",
      "metadata": {
        "id": "viTCv7dmS22G"
      },
      "source": [
        "필터를 활용하여 필터에 True 조건만 색인 합니다."
      ]
    },
    {
      "cell_type": "markdown",
      "metadata": {
        "id": "MH_2u6F5TPZP"
      },
      "source": [
        "이럴 때 꺾쇠 괄호로 한 번 더 묶어만 주면 됩니다. (꺾쇠 괄호 안에 조건문 삽입) \n",
        "\n",
        "arr2d[**조건필터**]"
      ]
    },
    {
      "cell_type": "code",
      "metadata": {
        "id": "y0EAI6j5neQf"
      },
      "source": [
        "arr2d = np.array([[1, 2, 3, 4], \n",
        "                  [5, 6, 7, 8], \n",
        "                  [9, 10, 11, 12]])"
      ],
      "execution_count": 43,
      "outputs": []
    },
    {
      "cell_type": "code",
      "metadata": {
        "id": "BfsZ4aNUTAxI",
        "colab": {
          "base_uri": "https://localhost:8080/"
        },
        "outputId": "c00c20b1-0d73-4488-8fca-0018a7025dee"
      },
      "source": [
        "arr2d[ arr2d > 2 ]\n"
      ],
      "execution_count": 44,
      "outputs": [
        {
          "output_type": "execute_result",
          "data": {
            "text/plain": [
              "array([ 3,  4,  5,  6,  7,  8,  9, 10, 11, 12])"
            ]
          },
          "metadata": {},
          "execution_count": 44
        }
      ]
    },
    {
      "cell_type": "code",
      "metadata": {
        "id": "O1AxvNb9TNRV",
        "colab": {
          "base_uri": "https://localhost:8080/"
        },
        "outputId": "923fa0b1-6d51-4aee-ad62-f125dd811a92"
      },
      "source": [
        "arr2d [ arr2d < 5]\n"
      ],
      "execution_count": 45,
      "outputs": [
        {
          "output_type": "execute_result",
          "data": {
            "text/plain": [
              "array([1, 2, 3, 4])"
            ]
          },
          "metadata": {},
          "execution_count": 45
        }
      ]
    },
    {
      "cell_type": "code",
      "metadata": {
        "id": "CDWWEmvJuHdW"
      },
      "source": [
        ""
      ],
      "execution_count": null,
      "outputs": []
    }
  ]
}