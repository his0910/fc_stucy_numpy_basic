{
  "nbformat": 4,
  "nbformat_minor": 0,
  "metadata": {
    "colab": {
      "name": "[실습]Ch06.numpy - 13.broadcasting.ipynb",
      "provenance": [],
      "collapsed_sections": []
    },
    "kernelspec": {
      "name": "python3",
      "display_name": "Python 3"
    }
  },
  "cells": [
    {
      "cell_type": "code",
      "metadata": {
        "id": "LulZNt92NkpN"
      },
      "source": [
        "import numpy as np"
      ],
      "execution_count": 1,
      "outputs": []
    },
    {
      "cell_type": "markdown",
      "metadata": {
        "id": "SRvQcvZCnW3i"
      },
      "source": [
        "## 1. Broadcasting"
      ]
    },
    {
      "cell_type": "markdown",
      "metadata": {
        "id": "CmHlXQZpnmV-"
      },
      "source": [
        "## 1-1. 숫자의 연산 (단일)"
      ]
    },
    {
      "cell_type": "code",
      "metadata": {
        "id": "ph3AU9BtnWO8"
      },
      "source": [
        "a = np.array([[1, 2, 3], \n",
        "              [2, 3, 4]])"
      ],
      "execution_count": 2,
      "outputs": []
    },
    {
      "cell_type": "code",
      "metadata": {
        "id": "wP3ryxaVeMAU"
      },
      "source": [
        "b = np.array([[3, 3, 3], \n",
        "              [3, 3, 3]])"
      ],
      "execution_count": 3,
      "outputs": []
    },
    {
      "cell_type": "code",
      "metadata": {
        "id": "NwrXRYpRePwT",
        "colab": {
          "base_uri": "https://localhost:8080/"
        },
        "outputId": "94899b6e-8aff-4565-9d2c-596f15f587cf"
      },
      "source": [
        "a + b\n"
      ],
      "execution_count": 4,
      "outputs": [
        {
          "output_type": "execute_result",
          "data": {
            "text/plain": [
              "array([[4, 5, 6],\n",
              "       [5, 6, 7]])"
            ]
          },
          "metadata": {},
          "execution_count": 4
        }
      ]
    },
    {
      "cell_type": "code",
      "metadata": {
        "id": "q7bEEmV6nb4u",
        "colab": {
          "base_uri": "https://localhost:8080/"
        },
        "outputId": "17ccd86e-27f9-4def-84f0-adbd695a8c2f"
      },
      "source": [
        "a + 3\n"
      ],
      "execution_count": 5,
      "outputs": [
        {
          "output_type": "execute_result",
          "data": {
            "text/plain": [
              "array([[4, 5, 6],\n",
              "       [5, 6, 7]])"
            ]
          },
          "metadata": {},
          "execution_count": 5
        }
      ]
    },
    {
      "cell_type": "code",
      "metadata": {
        "id": "7M0D2XH_nc7k",
        "colab": {
          "base_uri": "https://localhost:8080/"
        },
        "outputId": "d9c6332f-569c-42c2-d8d8-a2ba87845522"
      },
      "source": [
        "a - 3\n"
      ],
      "execution_count": 6,
      "outputs": [
        {
          "output_type": "execute_result",
          "data": {
            "text/plain": [
              "array([[-2, -1,  0],\n",
              "       [-1,  0,  1]])"
            ]
          },
          "metadata": {},
          "execution_count": 6
        }
      ]
    },
    {
      "cell_type": "code",
      "metadata": {
        "id": "IVybQr5hnXgN",
        "colab": {
          "base_uri": "https://localhost:8080/"
        },
        "outputId": "5f1d871b-c2df-4699-d5af-a4b8b8ab04e3"
      },
      "source": [
        "a * 3\n"
      ],
      "execution_count": 7,
      "outputs": [
        {
          "output_type": "execute_result",
          "data": {
            "text/plain": [
              "array([[ 3,  6,  9],\n",
              "       [ 6,  9, 12]])"
            ]
          },
          "metadata": {},
          "execution_count": 7
        }
      ]
    },
    {
      "cell_type": "code",
      "metadata": {
        "id": "NIdre4HjnZkV",
        "colab": {
          "base_uri": "https://localhost:8080/"
        },
        "outputId": "ca4259c7-6c71-4757-c75f-ddc539b5735f"
      },
      "source": [
        "a / 3\n"
      ],
      "execution_count": 8,
      "outputs": [
        {
          "output_type": "execute_result",
          "data": {
            "text/plain": [
              "array([[0.33333333, 0.66666667, 1.        ],\n",
              "       [0.66666667, 1.        , 1.33333333]])"
            ]
          },
          "metadata": {},
          "execution_count": 8
        }
      ]
    },
    {
      "cell_type": "markdown",
      "metadata": {
        "id": "v8sBWkCjngHh"
      },
      "source": [
        "### 1-2. array(배열)의 브로드캐스팅"
      ]
    },
    {
      "cell_type": "markdown",
      "metadata": {
        "id": "56JaZkO8qlki"
      },
      "source": [
        "오리지널 array의 shape가 유지됨을 잘 보세요"
      ]
    },
    {
      "cell_type": "code",
      "metadata": {
        "id": "MaCpoTDmqk4_"
      },
      "source": [
        "a = np.array([[1, 2, 3], \n",
        "              [2, 3, 4]])"
      ],
      "execution_count": 9,
      "outputs": []
    },
    {
      "cell_type": "code",
      "metadata": {
        "id": "iMrC-FXpoKCs"
      },
      "source": [
        "b = np.array([[1], \n",
        "              [2]])"
      ],
      "execution_count": 10,
      "outputs": []
    },
    {
      "cell_type": "code",
      "metadata": {
        "id": "1AHEKVHmeg44",
        "colab": {
          "base_uri": "https://localhost:8080/"
        },
        "outputId": "f85f6e37-a5e5-46ef-c6f2-3fcb8d0d81c3"
      },
      "source": [
        "a.shape, b.shape"
      ],
      "execution_count": 11,
      "outputs": [
        {
          "output_type": "execute_result",
          "data": {
            "text/plain": [
              "((2, 3), (2, 1))"
            ]
          },
          "metadata": {},
          "execution_count": 11
        }
      ]
    },
    {
      "cell_type": "code",
      "metadata": {
        "id": "aluTkytRoNSq",
        "colab": {
          "base_uri": "https://localhost:8080/"
        },
        "outputId": "3c4a8d43-efa8-46ab-8fdd-6b3ee1ad7eca"
      },
      "source": [
        "a * b\n"
      ],
      "execution_count": 12,
      "outputs": [
        {
          "output_type": "execute_result",
          "data": {
            "text/plain": [
              "array([[1, 2, 3],\n",
              "       [4, 6, 8]])"
            ]
          },
          "metadata": {},
          "execution_count": 12
        }
      ]
    },
    {
      "cell_type": "code",
      "metadata": {
        "id": "XlRAf8bYqbDv"
      },
      "source": [
        "a = np.array([[1, 2, 3], \n",
        "              [2, 3, 4]])"
      ],
      "execution_count": 13,
      "outputs": []
    },
    {
      "cell_type": "code",
      "metadata": {
        "id": "ks6uh7LqoO3C"
      },
      "source": [
        "b = np.array([1, 2, 3])"
      ],
      "execution_count": 14,
      "outputs": []
    },
    {
      "cell_type": "code",
      "metadata": {
        "id": "8Uw-I3Itqcui",
        "colab": {
          "base_uri": "https://localhost:8080/"
        },
        "outputId": "2dc7cf89-2280-4083-9061-90f011ab20bc"
      },
      "source": [
        "a * b\n"
      ],
      "execution_count": 15,
      "outputs": [
        {
          "output_type": "execute_result",
          "data": {
            "text/plain": [
              "array([[ 1,  4,  9],\n",
              "       [ 2,  6, 12]])"
            ]
          },
          "metadata": {},
          "execution_count": 15
        }
      ]
    },
    {
      "cell_type": "code",
      "metadata": {
        "id": "7NGo6E6oHbhx"
      },
      "source": [
        ""
      ],
      "execution_count": null,
      "outputs": []
    }
  ]
}